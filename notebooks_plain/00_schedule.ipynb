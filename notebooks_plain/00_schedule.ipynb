{
 "cells": [
  {
   "cell_type": "markdown",
   "metadata": {
    "slideshow": {
     "slide_type": "slide"
    }
   },
   "source": [
    "# Introduction to Python\n",
    "\n",
    "The best way to learn how to program is to do something useful, so this introduction to Python is built around a common scientific task: data analysis.\n",
    "\n",
    "Our real goal isn’t to just to teach Python, but to teach you the basic concepts that all programming depends on. We use Python in our lessons because:\n",
    "\n",
    "- we have to use something for examples\n",
    "- it’s free, well-documented, and runs almost everywhere\n",
    "- it has a large (and growing) user base among scientists\n",
    "- experience shows that it’s easier for novices to pick up than most other languages.\n",
    "\n",
    "But the two most important things are to use whatever language your colleagues are using, so that you can share your work with them easily, and to use that language well.\n"
   ]
  },
  {
   "cell_type": "markdown",
   "metadata": {
    "slideshow": {
     "slide_type": "slide"
    }
   },
   "source": [
    "## Prerequisites\n",
    "\n",
    "In order to complete the tutorial you should be familar with:\n",
    "- The linux command line"
   ]
  },
  {
   "cell_type": "markdown",
   "metadata": {
    "slideshow": {
     "slide_type": "slide"
    }
   },
   "source": [
    "## Schedule\n",
    "Approximate timings for the lesson:\n",
    "\n",
    "| Time | Episode | Description |\n",
    "|---|---|---|\n",
    "| 0:00 | [Getting Started with Python](./01_episode.ipynb) | Some first programs |\n",
    "| 0:10 | [Variables and Assignment](./02_episode.ipynb) | How do we store and access data? |\n",
    "| 0:30 | [Datatypes and Conversion](./03_episode.ipynb) | How does python store data? |\n",
    "| 0:45 | [Lists](./04_episode.ipynb) | How can we store lists of data? |\n",
    "| 1:05 | [Looping](./05_episode.ipynb) | How do we efficiently access data stored in lists? |\n",
    "| 1:30 | [Making Choices](./06_episode.ipynb) | If then what or else |\n",
    "| 1:45 | [Creating Functions](./07_episode.ipynb) | Functions contain modular blocks of code for reuse |\n",
    "| 2:00 | [Libraries](./08_episode.ipynb) | Avoid reinventing the wheel |\n",
    "| 2:10 | [Reading Data](./09_episode.ipynb) | How do we read data into python? |\n",
    "| 2:30 | [Command-Line Programs](./10_episodes.ipynb) | Combine all we've learnt to write a useful program |"
   ]
  },
  {
   "cell_type": "markdown",
   "metadata": {
    "slideshow": {
     "slide_type": "slide"
    }
   },
   "source": [
    "## Setup\n",
    "\n",
    "In preparation for this lesson, you will need to download two zipped files and place them in the specified folder.  The following instructions are intended for use on the `linux.bath`, if you are running on your own computer use your home directory in place of the `H-drive`.\n",
    "\n",
    "Make a new folder in your working directory, the `H-drive`, called `python-novice-inflammation`.\n",
    "\n",
    "Download [python-novice-inflammation-data.zip](../data/python-novice-inflammation-data.zip) and move the file to this folder.\n",
    "\n",
    "Also download [python-novice-inflammation-code.zip](../data/python-novice-inflammation-code.zip) and move it to the same folder.\n",
    "\n",
    "These files need to be unzipped, we will do this through linux. Open `linux.bath.ac.uk` through xming:\n",
    "\n",
    "- ‘Start’ → All Programs → Xming → linux\n",
    "\n",
    "navigate to the directory containing the files you downloaded and unzip them using the following commands:\n",
    "```bash\n",
    "% cd python-novice-inflammation/\n",
    "% unzip python-novice-inflammation-data.zip\n",
    "% unzip python-novice-inflammation-code.zip\n",
    "```\n",
    "\n",
    "You should end up with two new folders called data and code.\n",
    "\n",
    "To get started, go into the data folder from the Unix shell with:\n",
    "\n",
    "```bash\n",
    "% cd data\n",
    "```\n",
    "We will be using the IPython interpreter for this lesson, on linux.bath.ac.uk this is launched by typing the command:\n",
    "```bash\n",
    "% ipython3\n",
    "```\n",
    "Note the `3`, this refers to a specific version of Python, changes in its behaviour mean that you will observe different results in certain exercises.  This Python interpreter can be installed on your own computer using this link [install Anaconda](https://www.anaconda.com/distribution/). This also includes the Jupyter notebook functionality an exciting way of producing reproducible data analysis."
   ]
  }
 ],
 "metadata": {
  "celltoolbar": "Slideshow",
  "kernelspec": {
   "display_name": "Python 3",
   "language": "python",
   "name": "python3"
  },
  "language_info": {
   "codemirror_mode": {
    "name": "ipython",
    "version": 3
   },
   "file_extension": ".py",
   "mimetype": "text/x-python",
   "name": "python",
   "nbconvert_exporter": "python",
   "pygments_lexer": "ipython3",
   "version": "3.6.6"
  }
 },
 "nbformat": 4,
 "nbformat_minor": 2
}
