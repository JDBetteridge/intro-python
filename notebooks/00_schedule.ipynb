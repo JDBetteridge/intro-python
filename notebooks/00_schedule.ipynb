{
 "cells": [
  {
   "cell_type": "markdown",
   "metadata": {
    "slideshow": {
     "slide_type": "slide"
    }
   },
   "source": [
    "<div class=\"w3-bar w3-blue-grey w3-padding\">\n",
    "<div class=\"w3-bar-item\"><h2> ARC Training </h2></div>\n",
    "<div class=\"w3-bar-item w3-right\"><img class=\"w3-image w3-right\" style=\"width:40%;max-width:400px\" src=\"../images/uob-logo-white-transparent.png\"></div>\n",
    "</div>\n",
    "\n",
    "# Course Title\n",
    "\n",
    "Some description of the course where you talk about how important it is"
   ]
  },
  {
   "cell_type": "markdown",
   "metadata": {
    "slideshow": {
     "slide_type": "subslide"
    }
   },
   "source": [
    "<div class=\"w3-panel w3-leftbar w3-border-green w3-pale-green w3-padding-small\">\n",
    "    <h3><i class=\"fa fa-star\"></i> Prerequisites</h3>\n",
    "    <p> Are exquisite!\n",
    "</div>"
   ]
  },
  {
   "cell_type": "markdown",
   "metadata": {
    "slideshow": {
     "slide_type": "slide"
    }
   },
   "source": [
    "## Schedule\n",
    "<table class=\"w3-table w3-bordered\">\n",
    "<thead class=\"w3-black\">\n",
    "  <th>Time</th>\n",
    "  <th>Episode</th>\n",
    "  <th>Description</th>\n",
    "</thead>\n",
    "<tr>\n",
    "  <td>0:00</td>\n",
    "  <td><a href=\"./01_episode.ipynb\">Intro</a></td>\n",
    "  <td>The introduction</td>\n",
    "</tr>\n",
    "<tr>\n",
    "  <td>0:15</td>\n",
    "  <td><a href=\"./01_episode.ipynb\">Middle</a></td>\n",
    "  <td>Between the beginning and the end</td>\n",
    "</tr>\n",
    "<tr>\n",
    "  <td>0:30</td>\n",
    "  <td><a href=\"./01_episode.ipynb\">Finale</a></td>\n",
    "  <td>Tada!</td>\n",
    "</tr>\n",
    "</table>"
   ]
  },
  {
   "cell_type": "markdown",
   "metadata": {},
   "source": [
    "| Time | Episode | Description |\n",
    "|---|---|:---|\n",
    "|0:00 |\tIntro |\tThe introduction\n",
    "|0:15 |\tMiddle| \tBetween the beginning and the end\n",
    "|0:30 |\tFinale| \tTada!"
   ]
  },
  {
   "cell_type": "markdown",
   "metadata": {
    "slideshow": {
     "slide_type": "subslide"
    }
   },
   "source": [
    "Terms and conditions may apply, instuctors may go too fast, wheels might fall off etc, etc..."
   ]
  },
  {
   "cell_type": "markdown",
   "metadata": {},
   "source": [
    "## Setup\n",
    "Any setup for the lesson"
   ]
  }
 ],
 "metadata": {
  "kernelspec": {
   "display_name": "Python 3",
   "language": "python",
   "name": "python3"
  },
  "language_info": {
   "codemirror_mode": {
    "name": "ipython",
    "version": 3
   },
   "file_extension": ".py",
   "mimetype": "text/x-python",
   "name": "python",
   "nbconvert_exporter": "python",
   "pygments_lexer": "ipython3",
   "version": "3.7.0"
  }
 },
 "nbformat": 4,
 "nbformat_minor": 2
}
