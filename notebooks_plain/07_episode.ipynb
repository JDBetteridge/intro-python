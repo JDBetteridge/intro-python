{
 "cells": [
  {
   "cell_type": "markdown",
   "metadata": {
    "slideshow": {
     "slide_type": "slide"
    }
   },
   "source": [
    "# Update build system"
   ]
  },
  {
   "cell_type": "markdown",
   "metadata": {
    "slideshow": {
     "slide_type": "slide"
    }
   },
   "source": [
    "## Overview\n",
    "- **Teaching:** 15 min\n",
    "- **Exercises:** 0 min\n",
    "\n",
    "**Questions**\n",
    "- How do I update my lesson to include new and wonderful functionality that you've developed?\n",
    "\n",
    "**Objectives**\n",
    "- Understand that we are developing the build system and how to share it most effectively!"
   ]
  },
  {
   "cell_type": "markdown",
   "metadata": {
    "slideshow": {
     "slide_type": "slide"
    }
   },
   "source": [
    "## Build System Development\n",
    "In order to support both the use of the template and ongoing development of te build system below we describe you how can incorporate new features into your lessons derived fromt the template.  Currently we are not in position to deliver an independent build system, but this is certainly under consideration if the dependency stack can be made reasonable.  Rest assured every effort will be made to ensure backwards compatability, however given the limited set of key words currently it is difficult to imagine this not being the case."
   ]
  },
  {
   "cell_type": "markdown",
   "metadata": {
    "slideshow": {
     "slide_type": "slide"
    }
   },
   "source": [
    "## Development Branches\n",
    "Individual contributers are advised to develop changes to the **template repository** under their own dev branches, with separate branches for developments to the tutorial and the build system.  Any pull requests should then be made against the relevant development branch (`tutorial_dev` or `build_dev`).  Once accepted these are then merged into the master branch ready to be released for general use.\n",
    "\n",
    "For the user this means that in order to update their tutorial they just have to apply the most recent changes to `build_dev`.  The process follows the advice on Github for [configuring](https://help.github.com/articles/configuring-a-remote-for-a-fork/) and [synching a fork](https://help.github.com/articles/syncing-a-fork/).  In order to check that updating does not break your current build we recommend the following process, **assuming that `master` is the primary development branch** and that you have followed the instructions for duplicating the repository linked in [episode 2](./02_epsiode.ipynb).  "
   ]
  },
  {
   "cell_type": "markdown",
   "metadata": {
    "slideshow": {
     "slide_type": "slide"
    }
   },
   "source": [
    "1. First change to the working directory of your lesson.  From your master branch create a new temporary branch, and switch to it with the command:\n",
    "    ```bash\n",
    "    % git checkout -b update-build\n",
    "    ```\n",
    "\n",
    "2. Check whether you have added the template as a remote:\n",
    "    ```bash\n",
    "    % git remote -v\n",
    "    TEMPLATE   https://github.com/arc-bath/template_jupyter.git (fetch)\n",
    "    TEMPLATE   https://github.com/arc-bath/template_jupyter.git (push)\n",
    "    origin  https://github.com/james-grant1/template-duped.git (fetch)\n",
    "    origin  https://github.com/james-grant1/template-duped.git (push)\n",
    "    ```\n",
    "\n",
    "3. If you do not have the template repositories (the remote name TEMPLATE may be different>) then add it (and check that  it has added correctly by repeating step 2):\n",
    "    ```bash\n",
    "    git remote add template https://github.com/arc-bath/template_jupyter.git\n",
    "    ```\n",
    "\n",
    "4. Fetch the branches on the current template repository:\n",
    "    ```bash\n",
    "    % git fetch template\n",
    "    ```\n",
    "    \n",
    "5. Merge the build system develpoment branch:\n",
    "    ```bash\n",
    "    git merge template/build_dev\n",
    "    ```\n",
    "    \n",
    "6. Now check that your lesson builds correctly by making the lesson and verifying the output.  If everything is okay you can merge back into your master and delete the templorary branch:\n",
    "    ```bash\n",
    "    % git checkout master\n",
    "    % git merge update-build\n",
    "\n",
    "7. Once you have confirmed that the updates have been merged correctly, everything on `master` is building correctly, locally and remotely, you can remove the temporary branch with:\n",
    "    ```bash\n",
    "    % git branch -D update-build\n",
    "    ```"
   ]
  },
  {
   "cell_type": "markdown",
   "metadata": {
    "slideshow": {
     "slide_type": "slide"
    }
   },
   "source": [
    "## Key Points\n",
    "- We have a couple of approaches:\n",
    "    - One would use git with instruction and script provided\n",
    "    - The other would ship the build system as a package\n",
    "- We will *endeavour to* ensure backwards compatabilty\n",
    "- You may not need to worry because Jupyter will probably solve the problems we've tried to deal with."
   ]
  }
 ],
 "metadata": {
  "celltoolbar": "Slideshow",
  "kernelspec": {
   "display_name": "Python 3",
   "language": "python",
   "name": "python3"
  },
  "language_info": {
   "codemirror_mode": {
    "name": "ipython",
    "version": 3
   },
   "file_extension": ".py",
   "mimetype": "text/x-python",
   "name": "python",
   "nbconvert_exporter": "python",
   "pygments_lexer": "ipython3",
   "version": "3.6.6"
  }
 },
 "nbformat": 4,
 "nbformat_minor": 2
}
