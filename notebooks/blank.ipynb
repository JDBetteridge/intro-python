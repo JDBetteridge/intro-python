{
 "cells": [
  {
   "cell_type": "markdown",
   "metadata": {},
   "source": [
    "# Lesson Title"
   ]
  },
  {
   "cell_type": "markdown",
   "metadata": {},
   "source": [
    "## Prerequisites\n",
    "- Big\n",
    "- long\n",
    "- List\n",
    "- of\n",
    "- Prerequisites"
   ]
  },
  {
   "cell_type": "markdown",
   "metadata": {},
   "source": [
    "## Schedule\n",
    "| Time | Episode | Description |\n",
    "|---|---|---|\n",
    "|0:00 |\tIntro |\tThe introduction\n",
    "|0:15 |\tMiddle| \tBetween the beginning and the end\n",
    "|0:30 |\tFinale| \tTada!"
   ]
  },
  {
   "cell_type": "markdown",
   "metadata": {},
   "source": [
    "## Overview:\n",
    "\n",
    "**Teaching:** 30mins\n",
    "\n",
    "**Exercises:** 10mins\n",
    "\n",
    "**Questions**\n",
    "- This\n",
    "- Short\n",
    "- List\n",
    "**Objectives**\n",
    "- Second\n",
    "- Short\n",
    "- List"
   ]
  },
  {
   "cell_type": "markdown",
   "metadata": {},
   "source": [
    "## Info: In-Fo-Ma-Tion\n",
    "\n",
    "The contents of the block **including** markup _like_ `code` and\n",
    "- this\n",
    "- short\n",
    "- list\n",
    "\n",
    "```sh\n",
    "//and a code block\n",
    "int main(){\n",
    "\n",
    "}\n",
    "```"
   ]
  },
  {
   "cell_type": "markdown",
   "metadata": {},
   "source": [
    "## Exercise: Do THIS!!!\n",
    "\n",
    "Nice little exercise:\n",
    "Colour in the logo\n",
    "![](../images/test.svg)"
   ]
  },
  {
   "cell_type": "markdown",
   "metadata": {},
   "source": [
    "## Solution\n",
    "The solution to the problem is a secret and should be revealed with a mouseover\n",
    "\n",
    "The problem may be that further markup looks odd\n",
    "\n",
    "Such as `this` short `example`\n",
    "\n",
    "Another issue is you can't really have a code block in here...\n",
    "```plain\n",
    "Does this work?\n",
    "Oh yeah, but you can see the solution...\n",
    "...aaaaand it's not a code block.\n",
    "```"
   ]
  },
  {
   "cell_type": "markdown",
   "metadata": {},
   "source": [
    "## Key Points\n",
    "- A\n",
    "- list\n",
    "- of\n",
    "- key\n",
    "- points"
   ]
  }
 ],
 "metadata": {
  "kernelspec": {
   "display_name": "Python 3",
   "language": "python",
   "name": "python3"
  },
  "language_info": {
   "codemirror_mode": {
    "name": "ipython",
    "version": 3
   },
   "file_extension": ".py",
   "mimetype": "text/x-python",
   "name": "python",
   "nbconvert_exporter": "python",
   "pygments_lexer": "ipython3",
   "version": "3.7.0"
  }
 },
 "nbformat": 4,
 "nbformat_minor": 2
}
