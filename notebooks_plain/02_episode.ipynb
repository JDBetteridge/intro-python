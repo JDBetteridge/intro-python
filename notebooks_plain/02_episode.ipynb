{
 "cells": [
  {
   "cell_type": "markdown",
   "metadata": {
    "slideshow": {
     "slide_type": "slide"
    }
   },
   "source": [
    "# The Build System"
   ]
  },
  {
   "cell_type": "markdown",
   "metadata": {
    "slideshow": {
     "slide_type": "slide"
    }
   },
   "source": [
    "## Overview\n",
    "- **Teaching:** 15 min\n",
    "- **Exercises:** 0 min\n",
    "\n",
    "**Questions**\n",
    "- What are the main components of the build system?\n",
    "- What are the dependencies?\n",
    "- How do you `make` lessons?\n",
    "\n",
    "**Objectives**\n",
    "- Understand the structure of lessons\n",
    "- Know how to create environment to build lessons\n",
    "- Know how to build lessons locally"
   ]
  },
  {
   "cell_type": "markdown",
   "metadata": {
    "slideshow": {
     "slide_type": "slide"
    }
   },
   "source": [
    "## Key points\n",
    "- The build system consists of the tools to build and render the content\n",
    "- The repository also contains the content of the lesson\n",
    "- The principle depedency is Jupyter and packages that can be maintained in a virtual environment.\n",
    "- The system first renders decorated notebooks->html(->pdf)."
   ]
  }
 ],
 "metadata": {
  "celltoolbar": "Slideshow",
  "kernelspec": {
   "display_name": "Python 3",
   "language": "python",
   "name": "python3"
  },
  "language_info": {
   "codemirror_mode": {
    "name": "ipython",
    "version": 3
   },
   "file_extension": ".py",
   "mimetype": "text/x-python",
   "name": "python",
   "nbconvert_exporter": "python",
   "pygments_lexer": "ipython3",
   "version": "3.6.6"
  }
 },
 "nbformat": 4,
 "nbformat_minor": 2
}
