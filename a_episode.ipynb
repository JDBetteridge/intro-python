{
 "cells": [
  {
   "cell_type": "markdown",
   "metadata": {},
   "source": [
    "<div class=\"w3-bar w3-blue-grey w3-padding\">\n",
    "<div class=\"w3-bar-item\"><h2> ARC Training </h2></div>\n",
    "<div class=\"w3-bar-item w3-right\"><img class=\"w3-image w3-right\" style=\"width:40%;max-width:400px\" src=\"images/uob-logo-white-transparent.png\"></div>\n",
    "</div>"
   ]
  },
  {
   "cell_type": "markdown",
   "metadata": {},
   "source": [
    "# Lesson Title\n"
   ]
  },
  {
   "cell_type": "markdown",
   "metadata": {},
   "source": [
    "<div class=\"w3-border w3-border-khaki\">\n",
    "    <div class=\"w3-container w3-khaki w3-padding-small\">\n",
    "        <h3><i class=\"fa fa-file-o\"></i> Overview</h3>\n",
    "    </div>\n",
    "    <div class=\"w3-row-padding\">\n",
    "        <div class=\"w3-container w3-quarter\">\n",
    "            **Teaching:** 30 min<br/>\n",
    "            **Exercises:** 10min\n",
    "        </div>\n",
    "        <div class=\"w3-container w3-threequarter\">\n",
    "            **Questions**<br/>\n",
    "            <ul>\n",
    "                <li>What?</li>\n",
    "                <li>Who?</li>\n",
    "                <li>How?</li>\n",
    "            </ul>\n",
    "            **Objectives / Learning Outcomes**\n",
    "            <ul>\n",
    "                <li>Learn</li>\n",
    "                <li>To</li>\n",
    "                <li>Code</li>\n",
    "            </ul>\n",
    "        </div>\n",
    "    </div>\n",
    "</div>"
   ]
  },
  {
   "cell_type": "markdown",
   "metadata": {},
   "source": [
    "The lesson will start by looking in the working directory, using the command `pwd`. See below.."
   ]
  },
  {
   "cell_type": "code",
   "execution_count": 2,
   "metadata": {},
   "outputs": [
    {
     "name": "stdout",
     "output_type": "stream",
     "text": [
      "/home/jack/Documents/JamesGrant/template_jupyter\r\n"
     ]
    }
   ],
   "source": [
    "!pwd"
   ]
  },
  {
   "cell_type": "markdown",
   "metadata": {},
   "source": [
    "<div class=\"w3-border w3-border-yellow\">\n",
    "    <div class=\"w3-container w3-yellow w3-padding-small\">\n",
    "        <h3><i class=\"fa fa-info-circle\"></i> Some information</h3>\n",
    "    </div>\n",
    "    <div class=\"w3-container\">\n",
    "        <p> Did you know pwd stands for print working directory?\n",
    "    </div>\n",
    "</div>"
   ]
  },
  {
   "cell_type": "markdown",
   "metadata": {},
   "source": [
    "<div class=\"w3-border w3-border-orange\">\n",
    "    <div class=\"w3-container w3-orange w3-padding-small\">\n",
    "        <h3><i class=\"fa fa-pencil-square-o\"></i> Exercise</h3>\n",
    "    </div>\n",
    "    <div class=\"w3-container\">\n",
    "        <p> This is an exercise you should complete, try typing `pwd`\n",
    "    </div>\n",
    "    <div class=\"w3-padding\">\n",
    "        <div class=\"w3-border w3-border-brown\">\n",
    "            <div class=\"w3-container w3-brown w3-padding-small\">\n",
    "                <h3><i class=\"fa fa-eye\"></i> Solution</h3>\n",
    "            </div>\n",
    "            <div class=\"w3-container w3-brown w3-hover-white\">\n",
    "                <p class=\"w3-text-brown\"> The solution to the problem is a secret and should be revealed with a mouseover\n",
    "                <p class=\"w3-text-brown\"> The problem may be that further markup looks odd\n",
    "                <p class=\"w3-text-brown\"> Such as `this` short `example`\n",
    "                <p class=\"w3-text-brown\"> Another issue is you can't really have a code block in here...\n",
    "                <p class=\"w3-text-brown\">\n",
    "```\n",
    "Does this work?\n",
    "Oh yeah, but you can see the solution...\n",
    "...aaaaand it's not a code block.\n",
    "```\n",
    "            </div>\n",
    "        </div>\n",
    "    </div>\n",
    "</div>"
   ]
  },
  {
   "cell_type": "markdown",
   "metadata": {},
   "source": [
    "<div class=\"w3-border w3-border-light-green\">\n",
    "    <div class=\"w3-container w3-light-green w3-padding-small\">\n",
    "        <h3><i class=\"fa fa-key\"></i> Key Points</h3>\n",
    "    </div>\n",
    "    <div class=\"w3-container\">\n",
    "        <ul>\n",
    "            <li>Key points occur at the end of a section</li>\n",
    "            <li>They appear in a bulleted list</li>\n",
    "            <li>Like this</li>\n",
    "        </ul>\n",
    "    </div>\n",
    "</div>"
   ]
  },
  {
   "cell_type": "markdown",
   "metadata": {},
   "source": [
    "<div class=\"w3-bar w3-blue-grey\">\n",
    "<a href=\"./a_episode.ipynb\" class=\"w3-bar-item w3-button\"><h2><i class=\"fa fa-angle-double-left\"></i> Previous</h2></a>\n",
    "<a href=\"./a_schedule.ipynb\" class=\"w3-bar-item w3-button w3-center\" style=\"width:60%\"><h2>Schedule</h2></a>\n",
    "<a href=\"./a_episode.ipynb\" class=\"w3-bar-item w3-button w3-right\"><h2>Next <i class=\"fa fa-angle-double-right\"></i></h2></a>\n",
    "</div>"
   ]
  }
 ],
 "metadata": {
  "kernelspec": {
   "display_name": "Python 3",
   "language": "python",
   "name": "python3"
  },
  "language_info": {
   "codemirror_mode": {
    "name": "ipython",
    "version": 3
   },
   "file_extension": ".py",
   "mimetype": "text/x-python",
   "name": "python",
   "nbconvert_exporter": "python",
   "pygments_lexer": "ipython3",
   "version": "3.6.6"
  }
 },
 "nbformat": 4,
 "nbformat_minor": 2
}
