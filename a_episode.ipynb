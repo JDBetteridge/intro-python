{
 "cells": [
  {
   "cell_type": "markdown",
   "metadata": {},
   "source": [
    "<div class=\"w3-bar w3-blue-grey w3-padding\">\n",
    "<div class=\"w3-bar-item\"><h2> ARC Training </h2></div>\n",
    "<div class=\"w3-bar-item w3-right\"><img class=\"w3-image w3-right\" style=\"width:40%;max-width:400px\" src=\"images/uob-logo-white-transparent.png\"></div>\n",
    "</div>"
   ]
  },
  {
   "cell_type": "markdown",
   "metadata": {},
   "source": [
    "# Lesson Title\n"
   ]
  },
  {
   "cell_type": "markdown",
   "metadata": {},
   "source": [
    "<div class=\"w3-panel w3-leftbar w3-border-green w3-pale-green w3-padding-small\">\n",
    "    <h3> <i class=\"fa fa-file-o\"></i> Overview </h3>\n",
    "    <p>**Teaching:** 30 min\n",
    "    <p>**Exercises:** 10min\n",
    "    <p>**Questions**\n",
    "    <ul>\n",
    "        <li>What?</li>\n",
    "        <li>Who?</li>\n",
    "        <li>How?</li>\n",
    "    </ul>\n",
    "    <p>**Objectives**\n",
    "    <ul>\n",
    "        <li>Learn</li>\n",
    "        <li>To</li>\n",
    "        <li>Code</li>\n",
    "    </ul>\n",
    "</div>"
   ]
  },
  {
   "cell_type": "markdown",
   "metadata": {},
   "source": [
    "The lesson will start by looking in the working directory, using the command `pwd`. See below.."
   ]
  },
  {
   "cell_type": "code",
   "execution_count": 2,
   "metadata": {},
   "outputs": [
    {
     "name": "stdout",
     "output_type": "stream",
     "text": [
      "/home/jack/Documents/JamesGrant/template_jupyter\r\n"
     ]
    }
   ],
   "source": [
    "!pwd"
   ]
  },
  {
   "cell_type": "markdown",
   "metadata": {},
   "source": [
    "<div class=\"w3-panel w3-leftbar w3-border-yellow w3-pale-yellow w3-padding-small\">\n",
    "    <h3> <i class=\"fa fa-pencil-square-o\"></i> Exercise </h3>\n",
    "    <p class=\"w3-text-black\"> This is an exercise you should complete\n",
    "</div>"
   ]
  },
  {
   "cell_type": "code",
   "execution_count": null,
   "metadata": {},
   "outputs": [],
   "source": [
    "# This is now a space where you could write your solution to the exercise"
   ]
  },
  {
   "cell_type": "markdown",
   "metadata": {},
   "source": [
    "<div class=\"w3-panel w3-leftbar w3-border-blue w3-black w3-padding-small w3-hover-pale-blue\">\n",
    "    <h3> <i class=\"fa fa-eye\"></i> Solution </h3>\n",
    "    <p class=\"w3-text-black\"> The solution to the problem is a secret and should be revealed with a mouseover\n",
    "    <p class=\"w3-text-black\"> The problem may be that further markup looks odd\n",
    "    <p class=\"w3-text-black\"> Such as `this` short `example`\n",
    "    <p class=\"w3-text-black\"> Another issue is you can't really have a code block in here...\n",
    "    <p class=\"w3-text-black\">\n",
    "```\n",
    "Does this work?\n",
    "Oh yeah, but you can see the solution...\n",
    "...aaaaand it's not a code block.\n",
    "```\n",
    "</div>"
   ]
  },
  {
   "cell_type": "markdown",
   "metadata": {},
   "source": [
    "<div class=\"w3-panel w3-leftbar w3-border-green w3-pale-green w3-padding-small\">\n",
    "    <h3> <i class=\"fa fa-key\"></i> Key Points </h3>\n",
    "    <ul>\n",
    "        <li>Key points occur at the end of a section</li>\n",
    "        <li>They appear in a bulleted list</li>\n",
    "        <li>Like this</li>\n",
    "    </ul>\n",
    "</div>"
   ]
  },
  {
   "cell_type": "markdown",
   "metadata": {},
   "source": [
    "<div class=\"w3-bar w3-blue-grey\">\n",
    "<a href=\"./a_episode.ipynb\" class=\"w3-bar-item w3-button\"><h2><i class=\"fa fa-angle-double-left\"></i> Previous</h2></a>\n",
    "<a href=\"./a_schedule.ipynb\" class=\"w3-bar-item w3-button w3-center\" style=\"width:60%\"><h2>Schedule</h2></a>\n",
    "<a href=\"./a_episode.ipynb\" class=\"w3-bar-item w3-button w3-right\"><h2>Next <i class=\"fa fa-angle-double-right\"></i></h2></a>\n",
    "</div>"
   ]
  }
 ],
 "metadata": {
  "kernelspec": {
   "display_name": "Python 3",
   "language": "python",
   "name": "python3"
  },
  "language_info": {
   "codemirror_mode": {
    "name": "ipython",
    "version": 3
   },
   "file_extension": ".py",
   "mimetype": "text/x-python",
   "name": "python",
   "nbconvert_exporter": "python",
   "pygments_lexer": "ipython3",
   "version": "3.6.6"
  }
 },
 "nbformat": 4,
 "nbformat_minor": 2
}
