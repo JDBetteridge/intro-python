{
 "cells": [
  {
   "cell_type": "markdown",
   "metadata": {
    "slideshow": {
     "slide_type": "slide"
    }
   },
   "source": [
    "# Lesson Title"
   ]
  },
  {
   "cell_type": "markdown",
   "metadata": {
    "slideshow": {
     "slide_type": "subslide"
    }
   },
   "source": [
    "## Overview\n",
    "- **Teaching:** 15 min\n",
    "- **Exercises:** 0 min\n",
    "\n",
    "**Questions**\n",
    "- Where does the format come from?\n",
    "- What is the template?\n",
    "- Why was it created?\n",
    "- How does it work?\n",
    "\n",
    "**Objectives**\n",
    "- Understand that Software Carpentry courses are excellent\n",
    "- Understand the slight complexity barrier of working with them\n",
    "- Understand how *in some cases* this build system can help to create training material"
   ]
  },
  {
   "cell_type": "markdown",
   "metadata": {
    "slideshow": {
     "slide_type": "slide"
    }
   },
   "source": [
    "[Software Carpentry](https://software-carpentry.org) is an excellent organisation producing training material in research software skills for academia.  A great deal of effort has been put into the training, particularly from the pedagogical side breaking down each lesson into modular episodes with clear learning objectives, highlighted, sections on `KeyPoints`, `Exericses`, `Solutions` etc.  Additionally all the material is available for general use under a CC BY 4 making it a wonderful resource for the community. \n",
    "\n",
    "All the courses are written in decorated markdown which is built using jekyll to generate a course website.  We wanted to use a similar design and richness of content, but with a simpler build to reduce dependencies.  Also we wanted to make use of Jupyter Notebooks for the training material due to the ability to mix code and mark-up, even though we would not generally intend to use Jupyter for the teaching itself.  By doing so we hoped to deliver a build system that was usable by anyone familar with notebooks and the linux command line, with as little decoration to Markdown as possible"
   ]
  },
  {
   "cell_type": "code",
   "execution_count": 2,
   "metadata": {
    "slideshow": {
     "slide_type": "fragment"
    }
   },
   "outputs": [
    {
     "name": "stdout",
     "output_type": "stream",
     "text": [
      "/home/jack/Documents/JamesGrant/template_jupyter\r\n"
     ]
    }
   ],
   "source": []
  },
  {
   "cell_type": "markdown",
   "metadata": {
    "slideshow": {
     "slide_type": "slide"
    }
   },
   "source": [
    "## Information: Information\n",
    "Did you know?"
   ]
  },
  {
   "cell_type": "markdown",
   "metadata": {
    "slideshow": {
     "slide_type": "slide"
    }
   },
   "source": [
    "## Exercise: The first exercise\n",
    "This is an exercise you should complete"
   ]
  },
  {
   "cell_type": "code",
   "execution_count": null,
   "metadata": {
    "slideshow": {
     "slide_type": "skip"
    }
   },
   "outputs": [],
   "source": [
    "# This is now a space where you could write your solution to the exercise"
   ]
  },
  {
   "cell_type": "markdown",
   "metadata": {
    "slideshow": {
     "slide_type": "slide"
    }
   },
   "source": [
    "## Solution: The first exercise\n",
    "- The solution to the problem is a secret and should be moved to another document\n",
    "- The problem with markup should be fixed\n",
    "- Such as `this` short `example`\n",
    "- The issue with a code block is gone...   ...but be sure to specify some syntax highlighting!\n",
    "\n",
    "```c\n",
    "Does this work?\n",
    "Oh yeah, but you can see the solution...\n",
    "...aaaaand it's not a code block.\n",
    "```"
   ]
  },
  {
   "cell_type": "markdown",
   "metadata": {
    "slideshow": {
     "slide_type": "slide"
    }
   },
   "source": [
    "## Exercise: 2 `pwd` or something?\n",
    "Use `pwd`"
   ]
  },
  {
   "cell_type": "markdown",
   "metadata": {
    "slideshow": {
     "slide_type": "slide"
    }
   },
   "source": [
    "## Solution: 2 `pwd` or something?\n",
    "- Trivial\n",
    "\n",
    "Need to fill some space\n",
    "![](../images/test.svg)\n",
    "![](../images/test.svg)\n",
    "![](../images/test.svg)\n",
    "![](../images/test.svg)"
   ]
  },
  {
   "cell_type": "markdown",
   "metadata": {
    "slideshow": {
     "slide_type": "slide"
    }
   },
   "source": [
    "## Key Points\n",
    "- Key points occur at the end of a section\n",
    "- They appear in a bulleted list\n",
    "- Like this"
   ]
  }
 ],
 "metadata": {
  "celltoolbar": "Slideshow",
  "kernelspec": {
   "display_name": "Python 3",
   "language": "python",
   "name": "python3"
  },
  "language_info": {
   "codemirror_mode": {
    "name": "ipython",
    "version": 3
   },
   "file_extension": ".py",
   "mimetype": "text/x-python",
   "name": "python",
   "nbconvert_exporter": "python",
   "pygments_lexer": "ipython3",
   "version": "3.6.6"
  }
 },
 "nbformat": 4,
 "nbformat_minor": 2
}
