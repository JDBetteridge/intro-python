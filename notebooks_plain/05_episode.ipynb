{
 "cells": [
  {
   "cell_type": "markdown",
   "metadata": {
    "slideshow": {
     "slide_type": "slide"
    }
   },
   "source": [
    "# Features"
   ]
  },
  {
   "cell_type": "markdown",
   "metadata": {
    "slideshow": {
     "slide_type": "slide"
    }
   },
   "source": [
    "## Overview\n",
    "- **Teaching:** 15 min\n",
    "- **Exercises:** 0 min\n",
    "\n",
    "**Questions**\n",
    "- What options are there to enrich lessons?\n",
    "\n",
    "**Objectives**\n",
    "- Know that there are different key words for enriching lessons.\n",
    "- Understand that key words decorate entire cells.\n",
    "- Know that some key words are simple instructions, some take arguments.\n",
    "- Know how to use `Exercise` and `Solution`."
   ]
  },
  {
   "cell_type": "markdown",
   "metadata": {
    "slideshow": {
     "slide_type": "slide"
    }
   },
   "source": [
    "## Key points\n",
    "- Different key words decorate the md to enrich content.\n",
    "- `Overview` and `Key Points` help to plan episodes.\n",
    "- Regular `Information` can draw focus.\n",
    "- `Exercise` and `Solution` should be used in pairs with matching tags."
   ]
  }
 ],
 "metadata": {
  "celltoolbar": "Slideshow",
  "kernelspec": {
   "display_name": "Python 3",
   "language": "python",
   "name": "python3"
  },
  "language_info": {
   "codemirror_mode": {
    "name": "ipython",
    "version": 3
   },
   "file_extension": ".py",
   "mimetype": "text/x-python",
   "name": "python",
   "nbconvert_exporter": "python",
   "pygments_lexer": "ipython3",
   "version": "3.6.6"
  }
 },
 "nbformat": 4,
 "nbformat_minor": 2
}
