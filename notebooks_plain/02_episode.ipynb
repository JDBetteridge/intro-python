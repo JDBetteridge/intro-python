{
 "cells": [
  {
   "cell_type": "markdown",
   "metadata": {},
   "source": [
    "# The Build System"
   ]
  },
  {
   "cell_type": "markdown",
   "metadata": {},
   "source": [
    "## Overview\n",
    "- **Teaching:** 15 min\n",
    "- **Exercises:** 0 min\n",
    "\n",
    "**Questions**\n",
    "- What are the main components of a lesson?\n",
    "- What are the dependencies?\n",
    "- How do you `make` lessons?\n",
    "\n",
    "**Objectives**\n",
    "- Understand the structure of lessons\n",
    "- Know how to create environment to build lessons\n",
    "- Know how to build lessons locally"
   ]
  },
  {
   "cell_type": "markdown",
   "metadata": {},
   "source": [
    "## Key points\n",
    "- A lesson requires a schedule and episodes.\n",
    "- The schedule gives an overview of the workshop and links each episode.\n",
    "- Each episode needs to be numbered and linked.\n",
    "- Keywords are used to decorate cells with pre-formatted `html`."
   ]
  }
 ],
 "metadata": {
  "kernelspec": {
   "display_name": "Python 3",
   "language": "python",
   "name": "python3"
  },
  "language_info": {
   "codemirror_mode": {
    "name": "ipython",
    "version": 3
   },
   "file_extension": ".py",
   "mimetype": "text/x-python",
   "name": "python",
   "nbconvert_exporter": "python",
   "pygments_lexer": "ipython3",
   "version": "3.6.5"
  }
 },
 "nbformat": 4,
 "nbformat_minor": 2
}
