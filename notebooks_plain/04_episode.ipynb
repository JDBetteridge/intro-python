{
 "cells": [
  {
   "cell_type": "markdown",
   "metadata": {
    "slideshow": {
     "slide_type": "slide"
    }
   },
   "source": [
    "# Other Important Files"
   ]
  },
  {
   "cell_type": "markdown",
   "metadata": {
    "slideshow": {
     "slide_type": "slide"
    }
   },
   "source": [
    "## Overview\n",
    "- **Teaching:** 15 min\n",
    "- **Exercises:** 0 min\n",
    "\n",
    "**Questions**\n",
    "- What other files?\n",
    "\n",
    "**Objectives**\n",
    "- Know that additional files are used to define a consistent appearance.\n",
    "- Understand how top and bottom banners can be used to brand training/teaching material.\n",
    "- Know that README.md in the root of the repository is converted to `index.html` in the html build."
   ]
  },
  {
   "cell_type": "markdown",
   "metadata": {
    "slideshow": {
     "slide_type": "slide"
    }
   },
   "source": [
    "## Key points\n",
    "- top and bottom are used to decorate the schedule and episodes to provide a consistent appearance.\n",
    "- Your README.md describing the project will be used as an index for the html so as always keep it up to date and informative."
   ]
  }
 ],
 "metadata": {
  "celltoolbar": "Slideshow",
  "kernelspec": {
   "display_name": "Python 3",
   "language": "python",
   "name": "python3"
  },
  "language_info": {
   "codemirror_mode": {
    "name": "ipython",
    "version": 3
   },
   "file_extension": ".py",
   "mimetype": "text/x-python",
   "name": "python",
   "nbconvert_exporter": "python",
   "pygments_lexer": "ipython3",
   "version": "3.6.6"
  }
 },
 "nbformat": 4,
 "nbformat_minor": 2
}
